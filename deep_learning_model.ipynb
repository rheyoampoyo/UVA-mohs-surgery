{
 "cells": [
  {
   "cell_type": "code",
   "execution_count": 5,
   "id": "6c7250c2",
   "metadata": {},
   "outputs": [],
   "source": [
    "import pandas as pd\n",
    "import numpy as np"
   ]
  },
  {
   "cell_type": "code",
   "execution_count": 6,
   "id": "b6d18888",
   "metadata": {},
   "outputs": [],
   "source": [
    "patients_df = pd.read_csv('Prod//mohs_patients_10000.csv')"
   ]
  },
  {
   "cell_type": "code",
   "execution_count": 7,
   "id": "e2a2521b",
   "metadata": {},
   "outputs": [
    {
     "data": {
      "text/html": [
       "<div>\n",
       "<style scoped>\n",
       "    .dataframe tbody tr th:only-of-type {\n",
       "        vertical-align: middle;\n",
       "    }\n",
       "\n",
       "    .dataframe tbody tr th {\n",
       "        vertical-align: top;\n",
       "    }\n",
       "\n",
       "    .dataframe thead th {\n",
       "        text-align: right;\n",
       "    }\n",
       "</style>\n",
       "<table border=\"1\" class=\"dataframe\">\n",
       "  <thead>\n",
       "    <tr style=\"text-align: right;\">\n",
       "      <th></th>\n",
       "      <th>PatientID</th>\n",
       "      <th>Complexity</th>\n",
       "      <th>TumorType</th>\n",
       "      <th>Location</th>\n",
       "      <th>TumorDiameter_mm</th>\n",
       "      <th>HistologicSubtype</th>\n",
       "      <th>SpeaksEnglish</th>\n",
       "      <th>Age</th>\n",
       "      <th>Immunosuppressed</th>\n",
       "    </tr>\n",
       "  </thead>\n",
       "  <tbody>\n",
       "    <tr>\n",
       "      <th>0</th>\n",
       "      <td>Patient_00001</td>\n",
       "      <td>Simple</td>\n",
       "      <td>Basal Cell Carcinoma</td>\n",
       "      <td>Ear</td>\n",
       "      <td>5.5</td>\n",
       "      <td>Basosquamous</td>\n",
       "      <td>English</td>\n",
       "      <td>62</td>\n",
       "      <td>No</td>\n",
       "    </tr>\n",
       "    <tr>\n",
       "      <th>1</th>\n",
       "      <td>Patient_00002</td>\n",
       "      <td>Simple</td>\n",
       "      <td>Melanoma in situ</td>\n",
       "      <td>Forehead</td>\n",
       "      <td>8.8</td>\n",
       "      <td>Infiltrative</td>\n",
       "      <td>English</td>\n",
       "      <td>89</td>\n",
       "      <td>No</td>\n",
       "    </tr>\n",
       "    <tr>\n",
       "      <th>2</th>\n",
       "      <td>Patient_00003</td>\n",
       "      <td>Complex</td>\n",
       "      <td>Squamous Cell Carcinoma</td>\n",
       "      <td>Forehead</td>\n",
       "      <td>11.4</td>\n",
       "      <td>Desmoplastic</td>\n",
       "      <td>Non-English</td>\n",
       "      <td>50</td>\n",
       "      <td>No</td>\n",
       "    </tr>\n",
       "    <tr>\n",
       "      <th>3</th>\n",
       "      <td>Patient_00004</td>\n",
       "      <td>Simple</td>\n",
       "      <td>Melanoma in situ</td>\n",
       "      <td>Forehead</td>\n",
       "      <td>4.1</td>\n",
       "      <td>Desmoplastic</td>\n",
       "      <td>English</td>\n",
       "      <td>45</td>\n",
       "      <td>No</td>\n",
       "    </tr>\n",
       "    <tr>\n",
       "      <th>4</th>\n",
       "      <td>Patient_00005</td>\n",
       "      <td>Simple</td>\n",
       "      <td>Basal Cell Carcinoma</td>\n",
       "      <td>Ear</td>\n",
       "      <td>3.0</td>\n",
       "      <td>Superficial</td>\n",
       "      <td>English</td>\n",
       "      <td>66</td>\n",
       "      <td>No</td>\n",
       "    </tr>\n",
       "    <tr>\n",
       "      <th>...</th>\n",
       "      <td>...</td>\n",
       "      <td>...</td>\n",
       "      <td>...</td>\n",
       "      <td>...</td>\n",
       "      <td>...</td>\n",
       "      <td>...</td>\n",
       "      <td>...</td>\n",
       "      <td>...</td>\n",
       "      <td>...</td>\n",
       "    </tr>\n",
       "    <tr>\n",
       "      <th>9995</th>\n",
       "      <td>Patient_09996</td>\n",
       "      <td>Simple</td>\n",
       "      <td>Basal Cell Carcinoma</td>\n",
       "      <td>Forehead</td>\n",
       "      <td>7.4</td>\n",
       "      <td>Infiltrative</td>\n",
       "      <td>English</td>\n",
       "      <td>44</td>\n",
       "      <td>No</td>\n",
       "    </tr>\n",
       "    <tr>\n",
       "      <th>9996</th>\n",
       "      <td>Patient_09997</td>\n",
       "      <td>Complex</td>\n",
       "      <td>Basal Cell Carcinoma</td>\n",
       "      <td>Nose</td>\n",
       "      <td>9.3</td>\n",
       "      <td>Keratoacanthoma-like</td>\n",
       "      <td>English</td>\n",
       "      <td>82</td>\n",
       "      <td>No</td>\n",
       "    </tr>\n",
       "    <tr>\n",
       "      <th>9997</th>\n",
       "      <td>Patient_09998</td>\n",
       "      <td>Simple</td>\n",
       "      <td>Basal Cell Carcinoma</td>\n",
       "      <td>Neck</td>\n",
       "      <td>3.4</td>\n",
       "      <td>Keratoacanthoma-like</td>\n",
       "      <td>English</td>\n",
       "      <td>85</td>\n",
       "      <td>No</td>\n",
       "    </tr>\n",
       "    <tr>\n",
       "      <th>9998</th>\n",
       "      <td>Patient_09999</td>\n",
       "      <td>Simple</td>\n",
       "      <td>Basal Cell Carcinoma</td>\n",
       "      <td>Eyelid</td>\n",
       "      <td>5.1</td>\n",
       "      <td>Morpheaform</td>\n",
       "      <td>Non-English</td>\n",
       "      <td>56</td>\n",
       "      <td>Yes</td>\n",
       "    </tr>\n",
       "    <tr>\n",
       "      <th>9999</th>\n",
       "      <td>Patient_10000</td>\n",
       "      <td>Complex</td>\n",
       "      <td>Squamous Cell Carcinoma</td>\n",
       "      <td>Neck</td>\n",
       "      <td>17.5</td>\n",
       "      <td>Micronodular</td>\n",
       "      <td>English</td>\n",
       "      <td>80</td>\n",
       "      <td>No</td>\n",
       "    </tr>\n",
       "  </tbody>\n",
       "</table>\n",
       "<p>10000 rows × 9 columns</p>\n",
       "</div>"
      ],
      "text/plain": [
       "          PatientID Complexity                TumorType  Location  \\\n",
       "0     Patient_00001     Simple     Basal Cell Carcinoma       Ear   \n",
       "1     Patient_00002     Simple         Melanoma in situ  Forehead   \n",
       "2     Patient_00003    Complex  Squamous Cell Carcinoma  Forehead   \n",
       "3     Patient_00004     Simple         Melanoma in situ  Forehead   \n",
       "4     Patient_00005     Simple     Basal Cell Carcinoma       Ear   \n",
       "...             ...        ...                      ...       ...   \n",
       "9995  Patient_09996     Simple     Basal Cell Carcinoma  Forehead   \n",
       "9996  Patient_09997    Complex     Basal Cell Carcinoma      Nose   \n",
       "9997  Patient_09998     Simple     Basal Cell Carcinoma      Neck   \n",
       "9998  Patient_09999     Simple     Basal Cell Carcinoma    Eyelid   \n",
       "9999  Patient_10000    Complex  Squamous Cell Carcinoma      Neck   \n",
       "\n",
       "      TumorDiameter_mm     HistologicSubtype SpeaksEnglish  Age  \\\n",
       "0                  5.5          Basosquamous       English   62   \n",
       "1                  8.8          Infiltrative       English   89   \n",
       "2                 11.4          Desmoplastic   Non-English   50   \n",
       "3                  4.1          Desmoplastic       English   45   \n",
       "4                  3.0           Superficial       English   66   \n",
       "...                ...                   ...           ...  ...   \n",
       "9995               7.4          Infiltrative       English   44   \n",
       "9996               9.3  Keratoacanthoma-like       English   82   \n",
       "9997               3.4  Keratoacanthoma-like       English   85   \n",
       "9998               5.1           Morpheaform   Non-English   56   \n",
       "9999              17.5          Micronodular       English   80   \n",
       "\n",
       "     Immunosuppressed  \n",
       "0                  No  \n",
       "1                  No  \n",
       "2                  No  \n",
       "3                  No  \n",
       "4                  No  \n",
       "...               ...  \n",
       "9995               No  \n",
       "9996               No  \n",
       "9997               No  \n",
       "9998              Yes  \n",
       "9999               No  \n",
       "\n",
       "[10000 rows x 9 columns]"
      ]
     },
     "execution_count": 7,
     "metadata": {},
     "output_type": "execute_result"
    }
   ],
   "source": [
    "patients_df"
   ]
  },
  {
   "cell_type": "code",
   "execution_count": 8,
   "id": "a2a8853c",
   "metadata": {},
   "outputs": [],
   "source": [
    "patients_df.drop(columns=['PatientID'], inplace=True)"
   ]
  },
  {
   "cell_type": "code",
   "execution_count": 9,
   "id": "f46d5f94",
   "metadata": {},
   "outputs": [],
   "source": [
    "input = patients_df.drop(columns=['Complexity'])\n",
    "output = patients_df[\"Complexity\"]"
   ]
  },
  {
   "cell_type": "code",
   "execution_count": 10,
   "id": "624c1080",
   "metadata": {},
   "outputs": [],
   "source": [
    "import sklearn\n",
    "from sklearn.model_selection import train_test_split\n",
    "from sklearn.preprocessing import LabelEncoder, StandardScaler, OneHotEncoder\n",
    "from sklearn.compose import ColumnTransformer"
   ]
  },
  {
   "cell_type": "code",
   "execution_count": 11,
   "id": "77b79902",
   "metadata": {},
   "outputs": [],
   "source": [
    "categorical_features = ['TumorType', 'Location', 'HistologicSubtype', 'SpeaksEnglish', 'Immunosuppressed']\n",
    "numerical_features = ['TumorDiameter_mm', 'Age']\n",
    "\n",
    "label_encoder = LabelEncoder()\n",
    "output_encoded = label_encoder.fit_transform(output)\n",
    "\n",
    "preprocessor = ColumnTransformer([\n",
    "    ('cat', OneHotEncoder(handle_unknown='ignore'), categorical_features),\n",
    "    ('num', StandardScaler(), numerical_features)\n",
    "])"
   ]
  },
  {
   "cell_type": "code",
   "execution_count": 12,
   "id": "29675adc",
   "metadata": {},
   "outputs": [],
   "source": [
    "input_train_pre, input_test_pre, output_train, output_test = train_test_split(\n",
    "    input, output_encoded, test_size=0.2, random_state=25\n",
    ")\n",
    "\n",
    "input_train = preprocessor.fit_transform(input_train_pre)\n",
    "input_test = preprocessor.transform(input_test_pre)"
   ]
  },
  {
   "cell_type": "code",
   "execution_count": 13,
   "id": "cca60d2e",
   "metadata": {},
   "outputs": [],
   "source": [
    "import tensorflow as tf\n",
    "from tensorflow.keras import layers, models\n",
    "\n",
    "def create_model(input_dim):\n",
    "    model = models.Sequential([\n",
    "        layers.Input(shape=(input_dim,)),\n",
    "        layers.Dense(64, activation='relu'),\n",
    "        layers.Dense(32, activation='relu'),\n",
    "        layers.Dense(1, activation='sigmoid')\n",
    "    ])\n",
    "    \n",
    "    model.compile(optimizer='adam',\n",
    "                  loss='binary_crossentropy',\n",
    "                  metrics=['accuracy'])\n",
    "    return model"
   ]
  },
  {
   "cell_type": "code",
   "execution_count": 14,
   "id": "c8c7532b",
   "metadata": {},
   "outputs": [
    {
     "name": "stdout",
     "output_type": "stream",
     "text": [
      "Epoch 1/10\n",
      "\u001b[1m200/200\u001b[0m \u001b[32m━━━━━━━━━━━━━━━━━━━━\u001b[0m\u001b[37m\u001b[0m \u001b[1m1s\u001b[0m 2ms/step - accuracy: 0.7859 - loss: 0.4920 - val_accuracy: 0.8800 - val_loss: 0.3235\n",
      "Epoch 2/10\n",
      "\u001b[1m200/200\u001b[0m \u001b[32m━━━━━━━━━━━━━━━━━━━━\u001b[0m\u001b[37m\u001b[0m \u001b[1m0s\u001b[0m 1ms/step - accuracy: 0.8993 - loss: 0.2936 - val_accuracy: 0.8813 - val_loss: 0.3185\n",
      "Epoch 3/10\n",
      "\u001b[1m200/200\u001b[0m \u001b[32m━━━━━━━━━━━━━━━━━━━━\u001b[0m\u001b[37m\u001b[0m \u001b[1m0s\u001b[0m 1ms/step - accuracy: 0.8998 - loss: 0.2757 - val_accuracy: 0.8844 - val_loss: 0.3176\n",
      "Epoch 4/10\n",
      "\u001b[1m200/200\u001b[0m \u001b[32m━━━━━━━━━━━━━━━━━━━━\u001b[0m\u001b[37m\u001b[0m \u001b[1m0s\u001b[0m 1ms/step - accuracy: 0.8977 - loss: 0.2810 - val_accuracy: 0.8794 - val_loss: 0.3177\n",
      "Epoch 5/10\n",
      "\u001b[1m200/200\u001b[0m \u001b[32m━━━━━━━━━━━━━━━━━━━━\u001b[0m\u001b[37m\u001b[0m \u001b[1m0s\u001b[0m 1ms/step - accuracy: 0.9032 - loss: 0.2691 - val_accuracy: 0.8813 - val_loss: 0.3188\n",
      "Epoch 6/10\n",
      "\u001b[1m200/200\u001b[0m \u001b[32m━━━━━━━━━━━━━━━━━━━━\u001b[0m\u001b[37m\u001b[0m \u001b[1m0s\u001b[0m 1ms/step - accuracy: 0.9026 - loss: 0.2692 - val_accuracy: 0.8775 - val_loss: 0.3181\n",
      "Epoch 7/10\n",
      "\u001b[1m200/200\u001b[0m \u001b[32m━━━━━━━━━━━━━━━━━━━━\u001b[0m\u001b[37m\u001b[0m \u001b[1m0s\u001b[0m 1ms/step - accuracy: 0.9000 - loss: 0.2731 - val_accuracy: 0.8763 - val_loss: 0.3226\n",
      "Epoch 8/10\n",
      "\u001b[1m200/200\u001b[0m \u001b[32m━━━━━━━━━━━━━━━━━━━━\u001b[0m\u001b[37m\u001b[0m \u001b[1m0s\u001b[0m 1ms/step - accuracy: 0.8971 - loss: 0.2758 - val_accuracy: 0.8794 - val_loss: 0.3220\n",
      "Epoch 9/10\n",
      "\u001b[1m200/200\u001b[0m \u001b[32m━━━━━━━━━━━━━━━━━━━━\u001b[0m\u001b[37m\u001b[0m \u001b[1m0s\u001b[0m 1ms/step - accuracy: 0.9074 - loss: 0.2646 - val_accuracy: 0.8806 - val_loss: 0.3209\n",
      "Epoch 10/10\n",
      "\u001b[1m200/200\u001b[0m \u001b[32m━━━━━━━━━━━━━━━━━━━━\u001b[0m\u001b[37m\u001b[0m \u001b[1m0s\u001b[0m 1ms/step - accuracy: 0.9099 - loss: 0.2588 - val_accuracy: 0.8769 - val_loss: 0.3205\n"
     ]
    }
   ],
   "source": [
    "model = create_model(input_train.shape[1])\n",
    "\n",
    "history = model.fit(\n",
    "    input_train, output_train,\n",
    "    validation_split=0.2,\n",
    "    epochs=10,\n",
    "    batch_size=32,\n",
    "    verbose=1\n",
    ")"
   ]
  },
  {
   "cell_type": "code",
   "execution_count": 15,
   "id": "85756be8",
   "metadata": {},
   "outputs": [
    {
     "name": "stdout",
     "output_type": "stream",
     "text": [
      "\u001b[1m63/63\u001b[0m \u001b[32m━━━━━━━━━━━━━━━━━━━━\u001b[0m\u001b[37m\u001b[0m \u001b[1m0s\u001b[0m 1ms/step - accuracy: 0.8979 - loss: 0.2891  \n",
      "Test Accuracy: 0.8925\n"
     ]
    }
   ],
   "source": [
    "loss, accuracy = model.evaluate(input_test, output_test, verbose=1)\n",
    "print(f\"Test Accuracy: {accuracy:.4f}\")"
   ]
  },
  {
   "cell_type": "code",
   "execution_count": 16,
   "id": "7b53b5ac",
   "metadata": {},
   "outputs": [
    {
     "data": {
      "image/png": "[encoded data removed]",
      "text/plain": [
       "<Figure size 640x480 with 1 Axes>"
      ]
     },
     "metadata": {},
     "output_type": "display_data"
    }
   ],
   "source": [
    "import matplotlib.pyplot as plt\n",
    "\n",
    "plt.plot(history.history['accuracy'], label='Train Acc')\n",
    "plt.plot(history.history['val_accuracy'], label='Val Acc')\n",
    "plt.title('Training vs Validation Accuracy')\n",
    "plt.xlabel('Epoch')\n",
    "plt.ylabel('Accuracy')\n",
    "plt.legend()\n",
    "plt.grid(True)\n",
    "plt.show()"
   ]
  },
  {
   "cell_type": "code",
   "execution_count": 20,
   "id": "ca83806d",
   "metadata": {},
   "outputs": [
    {
     "name": "stdout",
     "output_type": "stream",
     "text": [
      "\u001b[1m63/63\u001b[0m \u001b[32m━━━━━━━━━━━━━━━━━━━━\u001b[0m\u001b[37m\u001b[0m \u001b[1m0s\u001b[0m 909us/step\n",
      "\u001b[1m63/63\u001b[0m \u001b[32m━━━━━━━━━━━━━━━━━━━━\u001b[0m\u001b[37m\u001b[0m \u001b[1m0s\u001b[0m 909us/step - accuracy: 0.8979 - loss: 0.2891\n",
      "Test Accuracy: 0.8925\n",
      "Precision: 0.8847\n",
      "Recall:    0.9744\n",
      "F1 Score:  0.9274\n"
     ]
    }
   ],
   "source": [
    "from sklearn.metrics import precision_score, recall_score, f1_score\n",
    "y_probs = model.predict(input_test)\n",
    "y_pred = np.argmax(y_probs, axis=1) if y_probs.shape[1] > 1 else (y_probs > 0.5).astype(int).flatten()\n",
    "y_true = output_test if isinstance(output_test, np.ndarray) else output_test.to_numpy()\n",
    "\n",
    "precision = precision_score(y_true, y_pred, average='binary')\n",
    "recall = recall_score(y_true, y_pred, average='binary')\n",
    "f1 = f1_score(y_true, y_pred, average='binary')\n",
    "loss, accuracy = model.evaluate(input_test, output_test, verbose=1)\n",
    "\n",
    "print(f\"Test Accuracy: {accuracy:.4f}\")\n",
    "print(f\"Precision: {precision:.4f}\")\n",
    "print(f\"Recall:    {recall:.4f}\")\n",
    "print(f\"F1 Score:  {f1:.4f}\")\n"
   ]
  }
 ],
 "metadata": {
  "kernelspec": {
   "display_name": "Python 3 (ipykernel)",
   "language": "python",
   "name": "python3"
  },
  "language_info": {
   "codemirror_mode": {
    "name": "ipython",
    "version": 3
   },
   "file_extension": ".py",
   "mimetype": "text/x-python",
   "name": "python",
   "nbconvert_exporter": "python",
   "pygments_lexer": "ipython3",
   "version": "3.12.5"
  }
 },
 "nbformat": 4,
 "nbformat_minor": 5
}
